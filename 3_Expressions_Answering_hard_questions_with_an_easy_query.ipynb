{
  "nbformat": 4,
  "nbformat_minor": 0,
  "metadata": {
    "colab": {
      "name": "3 Expressions: Answering hard questions with an easy query.ipynb",
      "provenance": [],
      "collapsed_sections": [],
      "include_colab_link": true
    },
    "kernelspec": {
      "name": "python3",
      "display_name": "Python 3"
    }
  },
  "cells": [
    {
      "cell_type": "markdown",
      "metadata": {
        "id": "view-in-github",
        "colab_type": "text"
      },
      "source": [
        "<a href=\"https://colab.research.google.com/github/hmelberg/health-data-analytics/blob/develop/3_Expressions_Answering_hard_questions_with_an_easy_query.ipynb\" target=\"_parent\"><img src=\"https://colab.research.google.com/assets/colab-badge.svg\" alt=\"Open In Colab\"/></a>"
      ]
    },
    {
      "cell_type": "markdown",
      "metadata": {
        "id": "vosA89WEixQc",
        "colab_type": "text"
      },
      "source": [
        "# Expressions: Answering hard questions with an easy query\n",
        "\n"
      ]
    },
    {
      "cell_type": "markdown",
      "metadata": {
        "id": "Tf8nyH_-k48b",
        "colab_type": "text"
      },
      "source": [
        "Hans Olav Melberg, Nashville, November, 2019"
      ]
    },
    {
      "cell_type": "markdown",
      "metadata": {
        "id": "2GUKCMPsixU0",
        "colab_type": "text"
      },
      "source": [
        "## Introduction\n",
        "In health analytics we often have to deal problems like the following:\n",
        "\n",
        "* Identify all patients who received pharmaceutical X before Y\n",
        "\n",
        "* How many patients who were first diagnosed with Ulcerative Colitis were later diagnosed with Crohn's Disease?\n",
        "\n",
        "* Select all patients with diabetes who were admitted to hospital with a glocose level higher than 8 within 100 days of first being diagnosed with diabetes?\n",
        " \n",
        "\n",
        "The aim of these questions can be to identify a particular group of patients that we want to study, or to search for indicators of problems and thereby improvements in treatment. In the diabetes example, patients who have been diagnosed should have received treatment so that they avoid ending up in the emergency room with high glucose levels. If the data shows that a sigificant share of diabetes patient have many episodes with high glucose levels, this is a sign that there is room for improvement.\n",
        "\n",
        "This notebook is about different methods for how we can count or select patients based on a set of inclusion and exclusion criteria. We will start with a simple example of trying to identify patients who have received \"A before B\" and then end up with more complex expressions like \"more than 5 events of A within 100 days after B.\" \n"
      ]
    },
    {
      "cell_type": "markdown",
      "metadata": {
        "id": "_BTQBowI7knx",
        "colab_type": "text"
      },
      "source": [
        "#Starting example: X before Y"
      ]
    },
    {
      "cell_type": "markdown",
      "metadata": {
        "id": "ZbLLRYi3mgYy",
        "colab_type": "text"
      },
      "source": [
        "Import libraries to be used\n",
        "\n",
        "\n"
      ]
    },
    {
      "cell_type": "code",
      "metadata": {
        "id": "5ntpfR-cycAM",
        "colab_type": "code",
        "colab": {}
      },
      "source": [
        "\n",
        "import pandas as pd\n",
        "import numpy as np"
      ],
      "execution_count": 0,
      "outputs": []
    },
    {
      "cell_type": "markdown",
      "metadata": {
        "id": "0I58CfeMHEn0",
        "colab_type": "text"
      },
      "source": [
        "Read synthetic medicare sample data on inpatient hospital stays"
      ]
    },
    {
      "cell_type": "code",
      "metadata": {
        "id": "q_jPK3K_0Vzu",
        "colab_type": "code",
        "colab": {}
      },
      "source": [
        "path = 'https://www.cms.gov/Research-Statistics-Data-and-Systems/Downloadable-Public-Use-Files/SynPUFs/Downloads/'\n",
        "inpatient_file = 'DE1_0_2008_to_2010_Inpatient_Claims_Sample_1.zip'\n",
        "\n",
        "inpatient = pd.read_csv(path+inpatient_file)\n"
      ],
      "execution_count": 0,
      "outputs": []
    },
    {
      "cell_type": "markdown",
      "metadata": {
        "id": "mGRKoGN-HXqz",
        "colab_type": "text"
      },
      "source": [
        "Initial data preparation"
      ]
    },
    {
      "cell_type": "code",
      "metadata": {
        "id": "764qb704G_As",
        "colab_type": "code",
        "colab": {}
      },
      "source": [
        "# lower case column names\n",
        "inpatient.columns=inpatient.columns.str.lower()\n",
        "\n",
        "# easier to use pid than desynpuf_id\n",
        "inpatient['pid']=inpatient.desynpuf_id\n",
        "\n",
        "# useful to have pid in the index  \n",
        "inpatient=inpatient.set_index('pid', drop=False)\n",
        "inpatient.index.name='pid_index'"
      ],
      "execution_count": 0,
      "outputs": []
    },
    {
      "cell_type": "markdown",
      "metadata": {
        "id": "iuNSlp33Jcg3",
        "colab_type": "text"
      },
      "source": [
        "Look at the data"
      ]
    },
    {
      "cell_type": "code",
      "metadata": {
        "id": "EKXNCd-y9Af1",
        "colab_type": "code",
        "outputId": "6d0c7756-b31f-4faf-f9c9-3fc66870307a",
        "colab": {
          "base_uri": "https://localhost:8080/",
          "height": 287
        }
      },
      "source": [
        "inpatient.head()"
      ],
      "execution_count": 0,
      "outputs": [
        {
          "output_type": "execute_result",
          "data": {
            "text/html": [
              "<div>\n",
              "<style scoped>\n",
              "    .dataframe tbody tr th:only-of-type {\n",
              "        vertical-align: middle;\n",
              "    }\n",
              "\n",
              "    .dataframe tbody tr th {\n",
              "        vertical-align: top;\n",
              "    }\n",
              "\n",
              "    .dataframe thead th {\n",
              "        text-align: right;\n",
              "    }\n",
              "</style>\n",
              "<table border=\"1\" class=\"dataframe\">\n",
              "  <thead>\n",
              "    <tr style=\"text-align: right;\">\n",
              "      <th></th>\n",
              "      <th>desynpuf_id</th>\n",
              "      <th>clm_id</th>\n",
              "      <th>segment</th>\n",
              "      <th>clm_from_dt</th>\n",
              "      <th>clm_thru_dt</th>\n",
              "      <th>prvdr_num</th>\n",
              "      <th>clm_pmt_amt</th>\n",
              "      <th>nch_prmry_pyr_clm_pd_amt</th>\n",
              "      <th>at_physn_npi</th>\n",
              "      <th>op_physn_npi</th>\n",
              "      <th>ot_physn_npi</th>\n",
              "      <th>clm_admsn_dt</th>\n",
              "      <th>admtng_icd9_dgns_cd</th>\n",
              "      <th>clm_pass_thru_per_diem_amt</th>\n",
              "      <th>nch_bene_ip_ddctbl_amt</th>\n",
              "      <th>nch_bene_pta_coinsrnc_lblty_am</th>\n",
              "      <th>nch_bene_blood_ddctbl_lblty_am</th>\n",
              "      <th>clm_utlztn_day_cnt</th>\n",
              "      <th>nch_bene_dschrg_dt</th>\n",
              "      <th>clm_drg_cd</th>\n",
              "      <th>icd9_dgns_cd_1</th>\n",
              "      <th>icd9_dgns_cd_2</th>\n",
              "      <th>icd9_dgns_cd_3</th>\n",
              "      <th>icd9_dgns_cd_4</th>\n",
              "      <th>icd9_dgns_cd_5</th>\n",
              "      <th>icd9_dgns_cd_6</th>\n",
              "      <th>icd9_dgns_cd_7</th>\n",
              "      <th>icd9_dgns_cd_8</th>\n",
              "      <th>icd9_dgns_cd_9</th>\n",
              "      <th>icd9_dgns_cd_10</th>\n",
              "      <th>icd9_prcdr_cd_1</th>\n",
              "      <th>icd9_prcdr_cd_2</th>\n",
              "      <th>icd9_prcdr_cd_3</th>\n",
              "      <th>icd9_prcdr_cd_4</th>\n",
              "      <th>icd9_prcdr_cd_5</th>\n",
              "      <th>icd9_prcdr_cd_6</th>\n",
              "      <th>hcpcs_cd_1</th>\n",
              "      <th>hcpcs_cd_2</th>\n",
              "      <th>hcpcs_cd_3</th>\n",
              "      <th>hcpcs_cd_4</th>\n",
              "      <th>...</th>\n",
              "      <th>hcpcs_cd_7</th>\n",
              "      <th>hcpcs_cd_8</th>\n",
              "      <th>hcpcs_cd_9</th>\n",
              "      <th>hcpcs_cd_10</th>\n",
              "      <th>hcpcs_cd_11</th>\n",
              "      <th>hcpcs_cd_12</th>\n",
              "      <th>hcpcs_cd_13</th>\n",
              "      <th>hcpcs_cd_14</th>\n",
              "      <th>hcpcs_cd_15</th>\n",
              "      <th>hcpcs_cd_16</th>\n",
              "      <th>hcpcs_cd_17</th>\n",
              "      <th>hcpcs_cd_18</th>\n",
              "      <th>hcpcs_cd_19</th>\n",
              "      <th>hcpcs_cd_20</th>\n",
              "      <th>hcpcs_cd_21</th>\n",
              "      <th>hcpcs_cd_22</th>\n",
              "      <th>hcpcs_cd_23</th>\n",
              "      <th>hcpcs_cd_24</th>\n",
              "      <th>hcpcs_cd_25</th>\n",
              "      <th>hcpcs_cd_26</th>\n",
              "      <th>hcpcs_cd_27</th>\n",
              "      <th>hcpcs_cd_28</th>\n",
              "      <th>hcpcs_cd_29</th>\n",
              "      <th>hcpcs_cd_30</th>\n",
              "      <th>hcpcs_cd_31</th>\n",
              "      <th>hcpcs_cd_32</th>\n",
              "      <th>hcpcs_cd_33</th>\n",
              "      <th>hcpcs_cd_34</th>\n",
              "      <th>hcpcs_cd_35</th>\n",
              "      <th>hcpcs_cd_36</th>\n",
              "      <th>hcpcs_cd_37</th>\n",
              "      <th>hcpcs_cd_38</th>\n",
              "      <th>hcpcs_cd_39</th>\n",
              "      <th>hcpcs_cd_40</th>\n",
              "      <th>hcpcs_cd_41</th>\n",
              "      <th>hcpcs_cd_42</th>\n",
              "      <th>hcpcs_cd_43</th>\n",
              "      <th>hcpcs_cd_44</th>\n",
              "      <th>hcpcs_cd_45</th>\n",
              "      <th>pid</th>\n",
              "    </tr>\n",
              "    <tr>\n",
              "      <th>pid_index</th>\n",
              "      <th></th>\n",
              "      <th></th>\n",
              "      <th></th>\n",
              "      <th></th>\n",
              "      <th></th>\n",
              "      <th></th>\n",
              "      <th></th>\n",
              "      <th></th>\n",
              "      <th></th>\n",
              "      <th></th>\n",
              "      <th></th>\n",
              "      <th></th>\n",
              "      <th></th>\n",
              "      <th></th>\n",
              "      <th></th>\n",
              "      <th></th>\n",
              "      <th></th>\n",
              "      <th></th>\n",
              "      <th></th>\n",
              "      <th></th>\n",
              "      <th></th>\n",
              "      <th></th>\n",
              "      <th></th>\n",
              "      <th></th>\n",
              "      <th></th>\n",
              "      <th></th>\n",
              "      <th></th>\n",
              "      <th></th>\n",
              "      <th></th>\n",
              "      <th></th>\n",
              "      <th></th>\n",
              "      <th></th>\n",
              "      <th></th>\n",
              "      <th></th>\n",
              "      <th></th>\n",
              "      <th></th>\n",
              "      <th></th>\n",
              "      <th></th>\n",
              "      <th></th>\n",
              "      <th></th>\n",
              "      <th></th>\n",
              "      <th></th>\n",
              "      <th></th>\n",
              "      <th></th>\n",
              "      <th></th>\n",
              "      <th></th>\n",
              "      <th></th>\n",
              "      <th></th>\n",
              "      <th></th>\n",
              "      <th></th>\n",
              "      <th></th>\n",
              "      <th></th>\n",
              "      <th></th>\n",
              "      <th></th>\n",
              "      <th></th>\n",
              "      <th></th>\n",
              "      <th></th>\n",
              "      <th></th>\n",
              "      <th></th>\n",
              "      <th></th>\n",
              "      <th></th>\n",
              "      <th></th>\n",
              "      <th></th>\n",
              "      <th></th>\n",
              "      <th></th>\n",
              "      <th></th>\n",
              "      <th></th>\n",
              "      <th></th>\n",
              "      <th></th>\n",
              "      <th></th>\n",
              "      <th></th>\n",
              "      <th></th>\n",
              "      <th></th>\n",
              "      <th></th>\n",
              "      <th></th>\n",
              "      <th></th>\n",
              "      <th></th>\n",
              "      <th></th>\n",
              "      <th></th>\n",
              "      <th></th>\n",
              "      <th></th>\n",
              "    </tr>\n",
              "  </thead>\n",
              "  <tbody>\n",
              "    <tr>\n",
              "      <th>00013D2EFD8E45D1</th>\n",
              "      <td>00013D2EFD8E45D1</td>\n",
              "      <td>196661176988405</td>\n",
              "      <td>1</td>\n",
              "      <td>20100312.0</td>\n",
              "      <td>20100313.0</td>\n",
              "      <td>2600GD</td>\n",
              "      <td>4000.0</td>\n",
              "      <td>0.0</td>\n",
              "      <td>3.139084e+09</td>\n",
              "      <td>NaN</td>\n",
              "      <td>NaN</td>\n",
              "      <td>20100312</td>\n",
              "      <td>4580</td>\n",
              "      <td>0.0</td>\n",
              "      <td>1100.0</td>\n",
              "      <td>0.0</td>\n",
              "      <td>0.0</td>\n",
              "      <td>1.0</td>\n",
              "      <td>20100313</td>\n",
              "      <td>217</td>\n",
              "      <td>7802</td>\n",
              "      <td>78820</td>\n",
              "      <td>V4501</td>\n",
              "      <td>4280</td>\n",
              "      <td>2720</td>\n",
              "      <td>4019</td>\n",
              "      <td>V4502</td>\n",
              "      <td>73300</td>\n",
              "      <td>E9330</td>\n",
              "      <td>NaN</td>\n",
              "      <td>NaN</td>\n",
              "      <td>NaN</td>\n",
              "      <td>NaN</td>\n",
              "      <td>NaN</td>\n",
              "      <td>NaN</td>\n",
              "      <td>NaN</td>\n",
              "      <td>NaN</td>\n",
              "      <td>NaN</td>\n",
              "      <td>NaN</td>\n",
              "      <td>NaN</td>\n",
              "      <td>...</td>\n",
              "      <td>NaN</td>\n",
              "      <td>NaN</td>\n",
              "      <td>NaN</td>\n",
              "      <td>NaN</td>\n",
              "      <td>NaN</td>\n",
              "      <td>NaN</td>\n",
              "      <td>NaN</td>\n",
              "      <td>NaN</td>\n",
              "      <td>NaN</td>\n",
              "      <td>NaN</td>\n",
              "      <td>NaN</td>\n",
              "      <td>NaN</td>\n",
              "      <td>NaN</td>\n",
              "      <td>NaN</td>\n",
              "      <td>NaN</td>\n",
              "      <td>NaN</td>\n",
              "      <td>NaN</td>\n",
              "      <td>NaN</td>\n",
              "      <td>NaN</td>\n",
              "      <td>NaN</td>\n",
              "      <td>NaN</td>\n",
              "      <td>NaN</td>\n",
              "      <td>NaN</td>\n",
              "      <td>NaN</td>\n",
              "      <td>NaN</td>\n",
              "      <td>NaN</td>\n",
              "      <td>NaN</td>\n",
              "      <td>NaN</td>\n",
              "      <td>NaN</td>\n",
              "      <td>NaN</td>\n",
              "      <td>NaN</td>\n",
              "      <td>NaN</td>\n",
              "      <td>NaN</td>\n",
              "      <td>NaN</td>\n",
              "      <td>NaN</td>\n",
              "      <td>NaN</td>\n",
              "      <td>NaN</td>\n",
              "      <td>NaN</td>\n",
              "      <td>NaN</td>\n",
              "      <td>00013D2EFD8E45D1</td>\n",
              "    </tr>\n",
              "    <tr>\n",
              "      <th>00016F745862898F</th>\n",
              "      <td>00016F745862898F</td>\n",
              "      <td>196201177000368</td>\n",
              "      <td>1</td>\n",
              "      <td>20090412.0</td>\n",
              "      <td>20090418.0</td>\n",
              "      <td>3900MB</td>\n",
              "      <td>26000.0</td>\n",
              "      <td>0.0</td>\n",
              "      <td>6.476809e+09</td>\n",
              "      <td>NaN</td>\n",
              "      <td>NaN</td>\n",
              "      <td>20090412</td>\n",
              "      <td>7866</td>\n",
              "      <td>0.0</td>\n",
              "      <td>1068.0</td>\n",
              "      <td>0.0</td>\n",
              "      <td>0.0</td>\n",
              "      <td>6.0</td>\n",
              "      <td>20090418</td>\n",
              "      <td>201</td>\n",
              "      <td>1970</td>\n",
              "      <td>4019</td>\n",
              "      <td>5853</td>\n",
              "      <td>7843</td>\n",
              "      <td>2768</td>\n",
              "      <td>71590</td>\n",
              "      <td>2724</td>\n",
              "      <td>19889</td>\n",
              "      <td>5849</td>\n",
              "      <td>NaN</td>\n",
              "      <td>NaN</td>\n",
              "      <td>NaN</td>\n",
              "      <td>NaN</td>\n",
              "      <td>NaN</td>\n",
              "      <td>NaN</td>\n",
              "      <td>NaN</td>\n",
              "      <td>NaN</td>\n",
              "      <td>NaN</td>\n",
              "      <td>NaN</td>\n",
              "      <td>NaN</td>\n",
              "      <td>...</td>\n",
              "      <td>NaN</td>\n",
              "      <td>NaN</td>\n",
              "      <td>NaN</td>\n",
              "      <td>NaN</td>\n",
              "      <td>NaN</td>\n",
              "      <td>NaN</td>\n",
              "      <td>NaN</td>\n",
              "      <td>NaN</td>\n",
              "      <td>NaN</td>\n",
              "      <td>NaN</td>\n",
              "      <td>NaN</td>\n",
              "      <td>NaN</td>\n",
              "      <td>NaN</td>\n",
              "      <td>NaN</td>\n",
              "      <td>NaN</td>\n",
              "      <td>NaN</td>\n",
              "      <td>NaN</td>\n",
              "      <td>NaN</td>\n",
              "      <td>NaN</td>\n",
              "      <td>NaN</td>\n",
              "      <td>NaN</td>\n",
              "      <td>NaN</td>\n",
              "      <td>NaN</td>\n",
              "      <td>NaN</td>\n",
              "      <td>NaN</td>\n",
              "      <td>NaN</td>\n",
              "      <td>NaN</td>\n",
              "      <td>NaN</td>\n",
              "      <td>NaN</td>\n",
              "      <td>NaN</td>\n",
              "      <td>NaN</td>\n",
              "      <td>NaN</td>\n",
              "      <td>NaN</td>\n",
              "      <td>NaN</td>\n",
              "      <td>NaN</td>\n",
              "      <td>NaN</td>\n",
              "      <td>NaN</td>\n",
              "      <td>NaN</td>\n",
              "      <td>NaN</td>\n",
              "      <td>00016F745862898F</td>\n",
              "    </tr>\n",
              "    <tr>\n",
              "      <th>00016F745862898F</th>\n",
              "      <td>00016F745862898F</td>\n",
              "      <td>196661177015632</td>\n",
              "      <td>1</td>\n",
              "      <td>20090831.0</td>\n",
              "      <td>20090902.0</td>\n",
              "      <td>3900HM</td>\n",
              "      <td>5000.0</td>\n",
              "      <td>0.0</td>\n",
              "      <td>6.119985e+08</td>\n",
              "      <td>6.119985e+08</td>\n",
              "      <td>NaN</td>\n",
              "      <td>20090831</td>\n",
              "      <td>6186</td>\n",
              "      <td>0.0</td>\n",
              "      <td>1068.0</td>\n",
              "      <td>0.0</td>\n",
              "      <td>0.0</td>\n",
              "      <td>2.0</td>\n",
              "      <td>20090902</td>\n",
              "      <td>750</td>\n",
              "      <td>6186</td>\n",
              "      <td>2948</td>\n",
              "      <td>56400</td>\n",
              "      <td>NaN</td>\n",
              "      <td>NaN</td>\n",
              "      <td>NaN</td>\n",
              "      <td>NaN</td>\n",
              "      <td>NaN</td>\n",
              "      <td>NaN</td>\n",
              "      <td>NaN</td>\n",
              "      <td>7092.0</td>\n",
              "      <td>6186</td>\n",
              "      <td>V5866</td>\n",
              "      <td>NaN</td>\n",
              "      <td>NaN</td>\n",
              "      <td>NaN</td>\n",
              "      <td>NaN</td>\n",
              "      <td>NaN</td>\n",
              "      <td>NaN</td>\n",
              "      <td>NaN</td>\n",
              "      <td>...</td>\n",
              "      <td>NaN</td>\n",
              "      <td>NaN</td>\n",
              "      <td>NaN</td>\n",
              "      <td>NaN</td>\n",
              "      <td>NaN</td>\n",
              "      <td>NaN</td>\n",
              "      <td>NaN</td>\n",
              "      <td>NaN</td>\n",
              "      <td>NaN</td>\n",
              "      <td>NaN</td>\n",
              "      <td>NaN</td>\n",
              "      <td>NaN</td>\n",
              "      <td>NaN</td>\n",
              "      <td>NaN</td>\n",
              "      <td>NaN</td>\n",
              "      <td>NaN</td>\n",
              "      <td>NaN</td>\n",
              "      <td>NaN</td>\n",
              "      <td>NaN</td>\n",
              "      <td>NaN</td>\n",
              "      <td>NaN</td>\n",
              "      <td>NaN</td>\n",
              "      <td>NaN</td>\n",
              "      <td>NaN</td>\n",
              "      <td>NaN</td>\n",
              "      <td>NaN</td>\n",
              "      <td>NaN</td>\n",
              "      <td>NaN</td>\n",
              "      <td>NaN</td>\n",
              "      <td>NaN</td>\n",
              "      <td>NaN</td>\n",
              "      <td>NaN</td>\n",
              "      <td>NaN</td>\n",
              "      <td>NaN</td>\n",
              "      <td>NaN</td>\n",
              "      <td>NaN</td>\n",
              "      <td>NaN</td>\n",
              "      <td>NaN</td>\n",
              "      <td>NaN</td>\n",
              "      <td>00016F745862898F</td>\n",
              "    </tr>\n",
              "    <tr>\n",
              "      <th>00016F745862898F</th>\n",
              "      <td>00016F745862898F</td>\n",
              "      <td>196091176981058</td>\n",
              "      <td>1</td>\n",
              "      <td>20090917.0</td>\n",
              "      <td>20090920.0</td>\n",
              "      <td>3913XU</td>\n",
              "      <td>5000.0</td>\n",
              "      <td>0.0</td>\n",
              "      <td>4.971603e+09</td>\n",
              "      <td>NaN</td>\n",
              "      <td>1.119000e+09</td>\n",
              "      <td>20090917</td>\n",
              "      <td>29590</td>\n",
              "      <td>0.0</td>\n",
              "      <td>1068.0</td>\n",
              "      <td>0.0</td>\n",
              "      <td>0.0</td>\n",
              "      <td>3.0</td>\n",
              "      <td>20090920</td>\n",
              "      <td>883</td>\n",
              "      <td>29623</td>\n",
              "      <td>30390</td>\n",
              "      <td>71690</td>\n",
              "      <td>34590</td>\n",
              "      <td>V1581</td>\n",
              "      <td>32723</td>\n",
              "      <td>NaN</td>\n",
              "      <td>NaN</td>\n",
              "      <td>NaN</td>\n",
              "      <td>NaN</td>\n",
              "      <td>NaN</td>\n",
              "      <td>NaN</td>\n",
              "      <td>NaN</td>\n",
              "      <td>NaN</td>\n",
              "      <td>NaN</td>\n",
              "      <td>NaN</td>\n",
              "      <td>NaN</td>\n",
              "      <td>NaN</td>\n",
              "      <td>NaN</td>\n",
              "      <td>NaN</td>\n",
              "      <td>...</td>\n",
              "      <td>NaN</td>\n",
              "      <td>NaN</td>\n",
              "      <td>NaN</td>\n",
              "      <td>NaN</td>\n",
              "      <td>NaN</td>\n",
              "      <td>NaN</td>\n",
              "      <td>NaN</td>\n",
              "      <td>NaN</td>\n",
              "      <td>NaN</td>\n",
              "      <td>NaN</td>\n",
              "      <td>NaN</td>\n",
              "      <td>NaN</td>\n",
              "      <td>NaN</td>\n",
              "      <td>NaN</td>\n",
              "      <td>NaN</td>\n",
              "      <td>NaN</td>\n",
              "      <td>NaN</td>\n",
              "      <td>NaN</td>\n",
              "      <td>NaN</td>\n",
              "      <td>NaN</td>\n",
              "      <td>NaN</td>\n",
              "      <td>NaN</td>\n",
              "      <td>NaN</td>\n",
              "      <td>NaN</td>\n",
              "      <td>NaN</td>\n",
              "      <td>NaN</td>\n",
              "      <td>NaN</td>\n",
              "      <td>NaN</td>\n",
              "      <td>NaN</td>\n",
              "      <td>NaN</td>\n",
              "      <td>NaN</td>\n",
              "      <td>NaN</td>\n",
              "      <td>NaN</td>\n",
              "      <td>NaN</td>\n",
              "      <td>NaN</td>\n",
              "      <td>NaN</td>\n",
              "      <td>NaN</td>\n",
              "      <td>NaN</td>\n",
              "      <td>NaN</td>\n",
              "      <td>00016F745862898F</td>\n",
              "    </tr>\n",
              "    <tr>\n",
              "      <th>00016F745862898F</th>\n",
              "      <td>00016F745862898F</td>\n",
              "      <td>196261176983265</td>\n",
              "      <td>1</td>\n",
              "      <td>20100626.0</td>\n",
              "      <td>20100701.0</td>\n",
              "      <td>3900MB</td>\n",
              "      <td>16000.0</td>\n",
              "      <td>0.0</td>\n",
              "      <td>6.408400e+09</td>\n",
              "      <td>1.960860e+09</td>\n",
              "      <td>NaN</td>\n",
              "      <td>20100626</td>\n",
              "      <td>5849</td>\n",
              "      <td>0.0</td>\n",
              "      <td>1100.0</td>\n",
              "      <td>0.0</td>\n",
              "      <td>0.0</td>\n",
              "      <td>5.0</td>\n",
              "      <td>20100701</td>\n",
              "      <td>983</td>\n",
              "      <td>3569</td>\n",
              "      <td>4019</td>\n",
              "      <td>3542</td>\n",
              "      <td>V8801</td>\n",
              "      <td>78820</td>\n",
              "      <td>2639</td>\n",
              "      <td>7840</td>\n",
              "      <td>7856</td>\n",
              "      <td>4271</td>\n",
              "      <td>NaN</td>\n",
              "      <td>NaN</td>\n",
              "      <td>E8889</td>\n",
              "      <td>NaN</td>\n",
              "      <td>NaN</td>\n",
              "      <td>NaN</td>\n",
              "      <td>NaN</td>\n",
              "      <td>NaN</td>\n",
              "      <td>NaN</td>\n",
              "      <td>NaN</td>\n",
              "      <td>NaN</td>\n",
              "      <td>...</td>\n",
              "      <td>NaN</td>\n",
              "      <td>NaN</td>\n",
              "      <td>NaN</td>\n",
              "      <td>NaN</td>\n",
              "      <td>NaN</td>\n",
              "      <td>NaN</td>\n",
              "      <td>NaN</td>\n",
              "      <td>NaN</td>\n",
              "      <td>NaN</td>\n",
              "      <td>NaN</td>\n",
              "      <td>NaN</td>\n",
              "      <td>NaN</td>\n",
              "      <td>NaN</td>\n",
              "      <td>NaN</td>\n",
              "      <td>NaN</td>\n",
              "      <td>NaN</td>\n",
              "      <td>NaN</td>\n",
              "      <td>NaN</td>\n",
              "      <td>NaN</td>\n",
              "      <td>NaN</td>\n",
              "      <td>NaN</td>\n",
              "      <td>NaN</td>\n",
              "      <td>NaN</td>\n",
              "      <td>NaN</td>\n",
              "      <td>NaN</td>\n",
              "      <td>NaN</td>\n",
              "      <td>NaN</td>\n",
              "      <td>NaN</td>\n",
              "      <td>NaN</td>\n",
              "      <td>NaN</td>\n",
              "      <td>NaN</td>\n",
              "      <td>NaN</td>\n",
              "      <td>NaN</td>\n",
              "      <td>NaN</td>\n",
              "      <td>NaN</td>\n",
              "      <td>NaN</td>\n",
              "      <td>NaN</td>\n",
              "      <td>NaN</td>\n",
              "      <td>NaN</td>\n",
              "      <td>00016F745862898F</td>\n",
              "    </tr>\n",
              "  </tbody>\n",
              "</table>\n",
              "<p>5 rows × 82 columns</p>\n",
              "</div>"
            ],
            "text/plain": [
              "                       desynpuf_id  ...               pid\n",
              "pid_index                           ...                  \n",
              "00013D2EFD8E45D1  00013D2EFD8E45D1  ...  00013D2EFD8E45D1\n",
              "00016F745862898F  00016F745862898F  ...  00016F745862898F\n",
              "00016F745862898F  00016F745862898F  ...  00016F745862898F\n",
              "00016F745862898F  00016F745862898F  ...  00016F745862898F\n",
              "00016F745862898F  00016F745862898F  ...  00016F745862898F\n",
              "\n",
              "[5 rows x 82 columns]"
            ]
          },
          "metadata": {
            "tags": []
          },
          "execution_count": 4
        }
      ]
    },
    {
      "cell_type": "markdown",
      "metadata": {
        "colab_type": "text",
        "id": "1EW8ysF8H43O"
      },
      "source": [
        "**Create a date column**\n",
        "\n",
        "In order to answer questions about before and after, we need a column of dates. The *clm_from_dt* column has the date of the event in a numeric format ('20080301'). We convert the date to a string format using *astype(str)* and apply the function *pd.to_datetime()* to convert the string to a proper date format. We also tell the function how the string is formatted (year, month, day).\n"
      ]
    },
    {
      "cell_type": "code",
      "metadata": {
        "id": "UgrUm2rWH_QK",
        "colab_type": "code",
        "outputId": "809ba658-b6e1-4fd7-eb8f-86e1736b5234",
        "colab": {
          "base_uri": "https://localhost:8080/",
          "height": 243
        }
      },
      "source": [
        "inpatient.clm_from_dt"
      ],
      "execution_count": 0,
      "outputs": [
        {
          "output_type": "execute_result",
          "data": {
            "text/plain": [
              "pid_index\n",
              "00013D2EFD8E45D1    20100312.0\n",
              "00016F745862898F    20090412.0\n",
              "00016F745862898F    20090831.0\n",
              "00016F745862898F    20090917.0\n",
              "00016F745862898F    20100626.0\n",
              "                       ...    \n",
              "FFF8B49458F9FFA7    20080329.0\n",
              "FFF8B49458F9FFA7    20081012.0\n",
              "FFFA950301FCA748    20100109.0\n",
              "FFFC880E13CA6278    20081012.0\n",
              "FFFE3ED9582AD46E    20090417.0\n",
              "Name: clm_from_dt, Length: 66773, dtype: float64"
            ]
          },
          "metadata": {
            "tags": []
          },
          "execution_count": 5
        }
      ]
    },
    {
      "cell_type": "code",
      "metadata": {
        "colab_type": "code",
        "id": "0YwP1V5NH43m",
        "outputId": "5f7e1bd6-7f99-49de-9bd9-de4f81861b89",
        "colab": {
          "base_uri": "https://localhost:8080/",
          "height": 243
        }
      },
      "source": [
        "# Convert to Int64 first to avoid problem of missing values\n",
        "date_as_string = inpatient.clm_from_dt.astype('Int64').astype(str)\n",
        "\n",
        "inpatient['date'] = pd.to_datetime(date_as_string, \n",
        "                                   format='%Y/%m/%d', \n",
        "                                   errors='coerce')\n",
        "inpatient['date']"
      ],
      "execution_count": 0,
      "outputs": [
        {
          "output_type": "execute_result",
          "data": {
            "text/plain": [
              "pid_index\n",
              "00013D2EFD8E45D1   2010-03-12\n",
              "00016F745862898F   2009-04-12\n",
              "00016F745862898F   2009-08-31\n",
              "00016F745862898F   2009-09-17\n",
              "00016F745862898F   2010-06-26\n",
              "                      ...    \n",
              "FFF8B49458F9FFA7   2008-03-29\n",
              "FFF8B49458F9FFA7   2008-10-12\n",
              "FFFA950301FCA748   2010-01-09\n",
              "FFFC880E13CA6278   2008-10-12\n",
              "FFFE3ED9582AD46E   2009-04-17\n",
              "Name: date, Length: 66773, dtype: datetime64[ns]"
            ]
          },
          "metadata": {
            "tags": []
          },
          "execution_count": 6
        }
      ]
    },
    {
      "cell_type": "markdown",
      "metadata": {
        "id": "yUGp_MwG-FGA",
        "colab_type": "text"
      },
      "source": [
        "Having created a date column, we sort to make sure that the events are ordered by date for each individual"
      ]
    },
    {
      "cell_type": "code",
      "metadata": {
        "colab_type": "code",
        "id": "GkuqFfi2H43z",
        "colab": {}
      },
      "source": [
        "inpatient=inpatient.sort_values(['pid', 'date'])"
      ],
      "execution_count": 0,
      "outputs": []
    },
    {
      "cell_type": "markdown",
      "metadata": {
        "id": "lkrsl-x-Kaof",
        "colab_type": "text"
      },
      "source": [
        "We also need the codebook for the ICD 9 diagnosis:"
      ]
    },
    {
      "cell_type": "code",
      "metadata": {
        "id": "e8-XD4O8G-su",
        "colab_type": "code",
        "outputId": "0913f136-3796-41eb-9681-d0b9067fc8cb",
        "colab": {
          "base_uri": "https://localhost:8080/",
          "height": 206
        }
      },
      "source": [
        "icd9_codebook = pd.read_csv('https://www.nber.org/data/ICD9ProviderDiagnosticCodes/2010/icd9dx2010.csv')\n",
        "icd9_codebook.head()"
      ],
      "execution_count": 0,
      "outputs": [
        {
          "output_type": "execute_result",
          "data": {
            "text/html": [
              "<div>\n",
              "<style scoped>\n",
              "    .dataframe tbody tr th:only-of-type {\n",
              "        vertical-align: middle;\n",
              "    }\n",
              "\n",
              "    .dataframe tbody tr th {\n",
              "        vertical-align: top;\n",
              "    }\n",
              "\n",
              "    .dataframe thead th {\n",
              "        text-align: right;\n",
              "    }\n",
              "</style>\n",
              "<table border=\"1\" class=\"dataframe\">\n",
              "  <thead>\n",
              "    <tr style=\"text-align: right;\">\n",
              "      <th></th>\n",
              "      <th>dgns_cd</th>\n",
              "      <th>shortdesc</th>\n",
              "      <th>version</th>\n",
              "      <th>fyear</th>\n",
              "    </tr>\n",
              "  </thead>\n",
              "  <tbody>\n",
              "    <tr>\n",
              "      <th>0</th>\n",
              "      <td>0010</td>\n",
              "      <td>Cholera d/t vib cholerae</td>\n",
              "      <td>27</td>\n",
              "      <td>2010</td>\n",
              "    </tr>\n",
              "    <tr>\n",
              "      <th>1</th>\n",
              "      <td>0011</td>\n",
              "      <td>Cholera d/t vib el tor</td>\n",
              "      <td>27</td>\n",
              "      <td>2010</td>\n",
              "    </tr>\n",
              "    <tr>\n",
              "      <th>2</th>\n",
              "      <td>0019</td>\n",
              "      <td>Cholera NOS</td>\n",
              "      <td>27</td>\n",
              "      <td>2010</td>\n",
              "    </tr>\n",
              "    <tr>\n",
              "      <th>3</th>\n",
              "      <td>0020</td>\n",
              "      <td>Typhoid fever</td>\n",
              "      <td>27</td>\n",
              "      <td>2010</td>\n",
              "    </tr>\n",
              "    <tr>\n",
              "      <th>4</th>\n",
              "      <td>0021</td>\n",
              "      <td>Paratyphoid fever a</td>\n",
              "      <td>27</td>\n",
              "      <td>2010</td>\n",
              "    </tr>\n",
              "  </tbody>\n",
              "</table>\n",
              "</div>"
            ],
            "text/plain": [
              "  dgns_cd                 shortdesc  version  fyear\n",
              "0    0010  Cholera d/t vib cholerae       27   2010\n",
              "1    0011    Cholera d/t vib el tor       27   2010\n",
              "2    0019               Cholera NOS       27   2010\n",
              "3    0020             Typhoid fever       27   2010\n",
              "4    0021       Paratyphoid fever a       27   2010"
            ]
          },
          "metadata": {
            "tags": []
          },
          "execution_count": 8
        }
      ]
    },
    {
      "cell_type": "code",
      "metadata": {
        "id": "ncpUyq0YG-ep",
        "colab_type": "code",
        "colab": {}
      },
      "source": [
        "icd2text = icd9_codebook.set_index('dgns_cd').shortdesc.to_dict()"
      ],
      "execution_count": 0,
      "outputs": []
    },
    {
      "cell_type": "code",
      "metadata": {
        "id": "LgjPQBMYG-Xf",
        "colab_type": "code",
        "outputId": "9ca52f99-50b3-46f9-9531-be01e2af3977",
        "colab": {
          "base_uri": "https://localhost:8080/",
          "height": 225
        }
      },
      "source": [
        "# Testing that the codebook works\n",
        "inpatient.icd9_dgns_cd_1.value_counts().rename(index=icd2text)"
      ],
      "execution_count": 0,
      "outputs": [
        {
          "output_type": "execute_result",
          "data": {
            "text/plain": [
              "Pneumonia, organism NOS     2453\n",
              "Rehabilitation proc NEC     1807\n",
              "Crnry athrscl natve vssl    1675\n",
              "Septicemia NOS              1648\n",
              "Obs chr bronc w(ac) exac    1558\n",
              "                            ... \n",
              "Monoclon paraproteinemia       1\n",
              "Chr stomach ulc hem/perf       1\n",
              "Obsessive-compulsive dis       1\n",
              "Prim thrombocytopen NEC        1\n",
              "Schizo NEC-subchr/exacer       1\n",
              "Name: icd9_dgns_cd_1, Length: 2740, dtype: int64"
            ]
          },
          "metadata": {
            "tags": []
          },
          "execution_count": 10
        }
      ]
    },
    {
      "cell_type": "markdown",
      "metadata": {
        "id": "ayOct8oRK0LA",
        "colab_type": "text"
      },
      "source": [
        "### Solution 1 to \"X before Y\": Create a new dataframe with the dates for when each person was first observed with CD or UC"
      ]
    },
    {
      "cell_type": "code",
      "metadata": {
        "id": "WL6dDvUeMCdl",
        "colab_type": "code",
        "colab": {}
      },
      "source": [
        "# Identify relevant codes\n",
        "#crohn's disease: 555x\n",
        "cd_codes = [code for code, name in icd2text.items() if code.startswith('555')]\n",
        "#ulcerative colitis: 556x\n",
        "uc_codes = [code for code, name in icd2text.items() if code.startswith('556')]\n"
      ],
      "execution_count": 0,
      "outputs": []
    },
    {
      "cell_type": "code",
      "metadata": {
        "id": "7X_lqlqbLv5K",
        "colab_type": "code",
        "outputId": "24ffab6a-4740-4d0a-ba1f-a002a8c0899c",
        "colab": {
          "base_uri": "https://localhost:8080/",
          "height": 34
        }
      },
      "source": [
        "cd_codes"
      ],
      "execution_count": 0,
      "outputs": [
        {
          "output_type": "execute_result",
          "data": {
            "text/plain": [
              "['5550', '5551', '5552', '5559']"
            ]
          },
          "metadata": {
            "tags": []
          },
          "execution_count": 12
        }
      ]
    },
    {
      "cell_type": "code",
      "metadata": {
        "id": "k-bcnUW6OAqI",
        "colab_type": "code",
        "outputId": "0345faf4-25f9-4fae-87a6-b7d6df79d48a",
        "colab": {
          "base_uri": "https://localhost:8080/",
          "height": 34
        }
      },
      "source": [
        "uc_codes"
      ],
      "execution_count": 0,
      "outputs": [
        {
          "output_type": "execute_result",
          "data": {
            "text/plain": [
              "['5560', '5561', '5562', '5563', '5564', '5565', '5566', '5568', '5569']"
            ]
          },
          "metadata": {
            "tags": []
          },
          "execution_count": 13
        }
      ]
    },
    {
      "cell_type": "code",
      "metadata": {
        "id": "IZId9UCHOCuC",
        "colab_type": "code",
        "colab": {}
      },
      "source": [
        "# make a list of all columns with diagnostic codes\n",
        "icd_columns = ['icd9_dgns_cd_1', 'icd9_dgns_cd_2', 'icd9_dgns_cd_3', 'icd9_dgns_cd_4',\n",
        "       'icd9_dgns_cd_5', 'icd9_dgns_cd_6', 'icd9_dgns_cd_7', 'icd9_dgns_cd_8',\n",
        "       'icd9_dgns_cd_9', 'icd9_dgns_cd_10']"
      ],
      "execution_count": 0,
      "outputs": []
    },
    {
      "cell_type": "code",
      "metadata": {
        "id": "CeeO7MQaLb0Z",
        "colab_type": "code",
        "colab": {}
      },
      "source": [
        "# select rows with the cd and uc codes\n",
        "cd_rows=inpatient[icd_columns].isin(cd_codes).any(axis=1)\n",
        "uc_rows=inpatient[icd_columns].isin(uc_codes).any(axis=1)"
      ],
      "execution_count": 0,
      "outputs": []
    },
    {
      "cell_type": "code",
      "metadata": {
        "id": "2_w9zTgpOyxD",
        "colab_type": "code",
        "colab": {}
      },
      "source": [
        "# find the first cd or uc event for each person \n",
        "# first = when the date is minimum in the relvant rows for that person\n",
        "first_cd = inpatient[cd_rows].groupby('pid').date.min()\n",
        "first_uc = inpatient[uc_rows].groupby('pid').date.min()"
      ],
      "execution_count": 0,
      "outputs": []
    },
    {
      "cell_type": "code",
      "metadata": {
        "id": "mVCaw49pP-r-",
        "colab_type": "code",
        "colab": {}
      },
      "source": [
        "# make a dataframe with the dates when CD or UC was observed\n",
        "# one row per person\n",
        "\n",
        "diagnose_date = first_cd.to_frame(name='first_cd')\n",
        "\n",
        "diagnose_date['first_uc']=first_uc\n"
      ],
      "execution_count": 0,
      "outputs": []
    },
    {
      "cell_type": "code",
      "metadata": {
        "id": "rQ8coINOQxrk",
        "colab_type": "code",
        "outputId": "217cbde2-a4e1-44d3-fd9d-373fedb849e9",
        "colab": {
          "base_uri": "https://localhost:8080/",
          "height": 34
        }
      },
      "source": [
        "# See how many had UC before CD\n",
        "(diagnose_date.first_uc < diagnose_date.first_cd).sum()\n"
      ],
      "execution_count": 0,
      "outputs": [
        {
          "output_type": "execute_result",
          "data": {
            "text/plain": [
              "2"
            ]
          },
          "metadata": {
            "tags": []
          },
          "execution_count": 18
        }
      ]
    },
    {
      "cell_type": "code",
      "metadata": {
        "id": "qQvULvNrSYky",
        "colab_type": "code",
        "outputId": "102f0993-d623-4744-ad8c-0488c92b0506",
        "colab": {
          "base_uri": "https://localhost:8080/",
          "height": 34
        }
      },
      "source": [
        "# See how many had CD before UC\n",
        "(diagnose_date.first_cd < diagnose_date.first_uc).sum()"
      ],
      "execution_count": 0,
      "outputs": [
        {
          "output_type": "execute_result",
          "data": {
            "text/plain": [
              "1"
            ]
          },
          "metadata": {
            "tags": []
          },
          "execution_count": 19
        }
      ]
    },
    {
      "cell_type": "markdown",
      "metadata": {
        "id": "5OqWk5EnSmMp",
        "colab_type": "text"
      },
      "source": [
        "###Solution 2: Make the *count_person()* function accept expressions\n",
        "\n",
        "The first solution works fine, but it is a takes a little time to code and it does not generalize well. If we had to do it in another dataset, with different codes, we would have to redo the analysis. Given that temporal and logical queries are common in health analytics, we might think that there must be a better way (At least one other person often tinks that).\n",
        "\n",
        "The general approach is adapt the function we have made - *count_persons()* to accept expressions and not just codes as input. That would make it possible to just write something like:\n",
        "\n",
        "count_persons('cd before uc')\n",
        "\n",
        "Let's start by making a simple *count_person* function that can handle (only) expressions like \"X before/after Y\":"
      ]
    },
    {
      "cell_type": "code",
      "metadata": {
        "id": "xFc2M2-G_9IZ",
        "colab_type": "code",
        "colab": {}
      },
      "source": [
        "def count_person(df, expression, col, pid='pid', date='date'):\n",
        "  \"\"\"\n",
        "  Counts for how many persons the expressions \"X after Y' is true\n",
        "  \"\"\"\n",
        "  # Split the expression in a left and right side\n",
        "  left_code, word, right_code = expression.split()\n",
        "  \n",
        "  # Here we assume there is a single code ono the right hand and left hand side\n",
        "  left_rows = (df[col] == left_code)\n",
        "  right_rows = (df[col] == right_code)\n",
        "  \n",
        "  # Make a dataframe with all the relevant individuals (one row per pereson)\n",
        "  individuals = df[left_rows].pid.unique()\n",
        "  dfi = pd.DataFrame(index=individuals)\n",
        "  \n",
        "  # Find the first date with the code on the left and right hand side (for each person)\n",
        "  first_left_date = df[left_rows].groupby(pid)[date].min()\n",
        "  first_right_date = df[right_rows].groupby(pid)[date].min()\n",
        "  \n",
        "  # Insert the code into the dataframe\n",
        "  dfi['left_date']=first_left_date\n",
        "  dfi['right_date']=first_right_date\n",
        "\n",
        "  # Make the comparison of whether the left date is before the right date, and count\n",
        "  if word=='before':\n",
        "      left_before_right = dfi.left_date<dfi.right_date\n",
        "      n = left_before_right.sum()\n",
        "  elif word =='after':\n",
        "      left_after_right = dfi.left_date>dfi.right_date\n",
        "      n = left_after_right.sum()\n",
        "  return n\n"
      ],
      "execution_count": 0,
      "outputs": []
    },
    {
      "cell_type": "code",
      "metadata": {
        "id": "r5uBV2WdJXgn",
        "colab_type": "code",
        "outputId": "2eedafc8-41c7-4785-8e1e-89674dea484e",
        "colab": {
          "base_uri": "https://localhost:8080/",
          "height": 34
        }
      },
      "source": [
        "count_person(df=inpatient, expression = '5560 before 5550', col='icd9_dgns_cd_1')"
      ],
      "execution_count": 0,
      "outputs": [
        {
          "output_type": "execute_result",
          "data": {
            "text/plain": [
              "0"
            ]
          },
          "metadata": {
            "tags": []
          },
          "execution_count": 22
        }
      ]
    },
    {
      "cell_type": "code",
      "metadata": {
        "id": "xp00CBKNTInm",
        "colab_type": "code",
        "colab": {}
      },
      "source": [
        "# A version of the function that accepts multiple codes and columns\n",
        "def count_person(df, expr, col, pid='pid', date='date'):\n",
        "  \"\"\"\n",
        "  Counts for how many persons the expressions \"X after Y' is true\n",
        "  \"\"\"\n",
        "  if isinstance(col, str):\n",
        "    col=[col]\n",
        "    \n",
        "  left_code, word, right_code = expr.split()\n",
        "\n",
        "  #Now we allow more than one code on both sides (split on comma, no space between)\n",
        "  left_code = left_code.split(',')\n",
        "  right_code = right_code.split(',')\n",
        "\n",
        "  # We also allow more columns for the codes\n",
        "  left_rows = df[col].isin(left_code).any(axis=1)\n",
        "  right_rows = df[col].isin(right_code).any(axis=1)\n",
        "  \n",
        "  individuals = df[left_rows].pid.unique()\n",
        "  dfi = pd.DataFrame(index=individuals)\n",
        "  \n",
        "  first_left_date = df[left_rows].groupby(pid)[date].min()\n",
        "  first_right_date = df[left_rows].groupby(pid)[date].min()\n",
        "  \n",
        "  dfi['left_date']=first_left_date\n",
        "  dfi['right_date']=first_right_date\n",
        "\n",
        "  if word=='before':\n",
        "      left_before_right = dfi.left_date<dfi.right_date\n",
        "      n = left_before_right.sum()\n",
        "  elif word =='after':\n",
        "      left_after_right = dfi.left_date>dfi.right_date\n",
        "      n = left_after_right.sum()\n",
        "  \n",
        "  return n\n",
        "\n",
        "\n",
        "\n"
      ],
      "execution_count": 0,
      "outputs": []
    },
    {
      "cell_type": "code",
      "metadata": {
        "id": "CXPpshv6m3h_",
        "colab_type": "code",
        "outputId": "2f27d1c0-7380-4e75-dcf5-c858059df140",
        "colab": {
          "base_uri": "https://localhost:8080/",
          "height": 35
        }
      },
      "source": [
        "count_person(df=inpatient, expr = '5560,5561,5562,5563,5569 before 5550,5553,5559', \n",
        "             col=icd_columns)"
      ],
      "execution_count": 0,
      "outputs": [
        {
          "output_type": "execute_result",
          "data": {
            "text/plain": [
              "0"
            ]
          },
          "metadata": {
            "tags": []
          },
          "execution_count": 40
        }
      ]
    },
    {
      "cell_type": "markdown",
      "metadata": {
        "id": "IBnymjMlm3Hf",
        "colab_type": "text"
      },
      "source": [
        "##A list of common expressions"
      ]
    },
    {
      "cell_type": "markdown",
      "metadata": {
        "id": "VOYi1fcSm3An",
        "colab_type": "text"
      },
      "source": [
        "Having created a function that can count statements using keywords like before and after, you may soon realize - or your users will no doubt make you aware - that you could generalize the approach and add other types of expressions. For instance, consider a researcher who wants to know how many patients  with diabetes that have more than 2 hospital events with diabetes within 100 days of the first diagnosis. \n",
        "\n",
        "Onnce again, we will do the code and then add a function that would make this as easy, and generalizable, as:\n",
        "\n",
        "```\n",
        "select_persons('min 2 diabetes_codes within 100 days after 1st diabetes_code')\n",
        "```\n",
        "\n",
        "The general approach to solve expressions like this, is to parse it into smaller statements, solve each isolated statement, and then put it back to evaluate the overall relational statement.\n",
        "\n",
        "In our case we have a general statement: ```x within y```\n",
        "where \n",
        "* x is \"min two diabetes codes\"\n",
        "* y is \"100 days after 1st diabetes code\"\n",
        "\n",
        "One solution would be the following: \n",
        "- Find the first diabetes event for each person\n",
        "- For all the other diabetes event, calculate the difference (in days) from the first event (for that person)\n",
        "- Keep only the events that are less than 100 days away from the first event\n",
        "- See which individuals that have at least two diabetes events in this reduced dataset\n",
        "\n",
        "But this is only one of many possible expressions. The question is whether it is feasible to built a general approach that will cover as many many use cases as possible. \n",
        "\n",
        "Let's start by listing a number of possible expressions (X and Y are here sharhand for medical codes, say pharmaceutical X and Y):\n",
        "\n",
        "```\n",
        "X and Y\n",
        "X before Y\n",
        "max 3 of X\n",
        "1st of X after 5th of Y\n",
        "X within 100 days of Y\n",
        "X within 100 days of 1st Y\n",
        "X within first 20 of Y\n",
        "X after 100 days of 3rd Y\n",
        "X within 3rd to 8th of Y\n",
        "max 3 of glucose>10\n",
        "X after glucose>10\n",
        "```\n",
        "\n",
        "In addition the the expressons themselves, it would be nice to have an easy way to ...\n",
        "* **include different column names***. \n",
        "For instance, `X in icd and Y in atc` would identify people who at one point had X in the icd column and Y in the atc column. \n",
        "* **Include existing lists of codes** If we already  have a list of codes, we should be able to refer to the list by its name in the columns expression, For instance: `@cd_codes after @uc_codes`\n",
        "where the alpha symbol indicates that we are referrring to an external list (This is the same convention that is used by the eval function in Pandas).\n",
        "* **Handle nested expressions** Often se use multiple and nested criteria to select patients: `((X or Y) before (Q and R)) within 100 days of 1st of Z`\n",
        "* **Allow shorthands for codes** Instead of having to list all codes for cd (5550, 5551, 5552 etc), only might be allowed be allowed to write: `55* before 56*`"
      ]
    },
    {
      "cell_type": "code",
      "metadata": {
        "id": "8g4zHPncm25D",
        "colab_type": "code",
        "colab": {}
      },
      "source": [
        ""
      ],
      "execution_count": 0,
      "outputs": []
    },
    {
      "cell_type": "markdown",
      "metadata": {
        "id": "lRZtXSUsipwK",
        "colab_type": "text"
      },
      "source": [
        "##General implementation approach for expressions"
      ]
    },
    {
      "cell_type": "markdown",
      "metadata": {
        "id": "9z_9s0SYirJ-",
        "colab_type": "text"
      },
      "source": [
        "Here are the general steps for analyzing any expresssion:\n",
        "0. **Preprocess the expressions**\n",
        "Before doing anything, we should clean the expression. For instance, expand shorthand codes to their full codes, import external lists of codes and other formatting issues that are necessary to make the functions work.\n",
        "\n",
        "1. **Break the expression down into smaller units** \n",
        "Example:```X and Y``` has two atoms that can be analyzed separately, before being evaluated together. ```max 3 of X and min 2 of Y``` also has two atoms, but this time each atom has a modifier. \n",
        "\n",
        "While it sounds easy to 'break an expression down intos it smaller units,' this begs two questions. First: What is the smallest unit? And second, more practically, how can we break down a nested expression in a way that makes it possible to evaluate it?\n",
        "\n",
        "## Problem: Breaking up expressions\n",
        "A first stab at breaking up expressions, is to split on logical operators (and, or). Hence,\n",
        "'min 2 X and max 3 Y' would become two seperate conditions that we first evaluate separately ('min 2 X' and 'max 3 Y'). Breaking it down we could give them names, like condition 1 (c1) and 2 (c2). We then have:\n",
        "* Original expression: 'min 2 X and max 3 Y'\n",
        "* Transformed expression 'c1 and c2' where c1='min 2 X' and c2='max 3 Y'\n",
        "\n",
        "In the case of logical operators this works fine. Each condition can be evaluated separately and we can then evaluate the transformed expression. Even nested operations are no problem: \n",
        "\n",
        "`(min 2 X or Y) and (Q or max 3 Z)`\n",
        "\n",
        "would become: \n",
        "\n",
        "`(c1 or c2) and (c3 or c4)`\n",
        "\n",
        "when we split on logical operators but maintain the \n",
        "parenthesis and Pandas itself can evaluate (nested)logical conditions using *pd.eval()* or *df.eval()*.\n",
        "\n",
        "The problem arises when we include temporal operators. `min 2 X before Y` cannot be broken down and analyzed separately like an and/or statement. Instead, it must be considered as a fundamental unit  itself. True, it is composed of smaller atoms and when we analyze temporal statements we will break it down further, but we cannot start by splitting on temporal operators the same way we start by splitting on logical operators.\n",
        "\n",
        "It becomes even worse when we allow nested temporal (and logical) operators: `(X or Y) before (Q and R)` It would be foolish to start by splitting on the logical operators since they are part of another fundamental unit - the temporal condition. In short, we wold want the parsing of the expression to be:\n",
        "* (X or Y) before (Q and R)\n",
        "* c1 before c2\n",
        "\n",
        "One possible solution and implenentation of all this is as follows:\n",
        "1. Make a function that finds the first non-nested expression in a string. Non-nested simply means the part that is encosed by parenthesis and ther are no other parenthesis inside.\n",
        "2. Use the function recursively on the expression to find the first non-nested expressions, store it in a dictionary, replace the expression with a symbol (i1, i2 etc) and store the current expression after replacement of the nested expression with its symbol.\n",
        "\n",
        "Here is a specific example using a slightly more complicated expression:\n",
        "`(X or Y) before (Q and (R or S))`\n",
        "* Find the first non-nested expression: (X or Y). Store this as i1 and the overall expression is now: i1 before (Q and (R or S))\n",
        "* Find the first nested expresion in replaced expression from the previous step: R or S. Store this as i2 and replace. The new expression is now: i1 before (Q and i2)\n",
        "* The first nested expression is in the previous expression is: Q and i2. Store this as i3. The (final) expression is now: i1 before i3\n",
        "\n",
        "We have now broken down the expression, including logical and temporal operators, into smaller statements that can be evaluated in steps before we evaluate the final and last expression (i1 before i3).\n",
        "## Problem 2: How to do implement the evaluations?\n",
        "Inpractice this is done by first evaluating the first non-nested expression we found. This expression is not necessarily a simple condition, and may require further parsing, but we know one important thing. We do not have to worry about it being nested, so we can feed it to functions even id these functions do not handle nested expressions! This simpplifies the functions required to parse and solve the expression. We only need to store the result from evaluating the expression (a row based boolean series) in the dataframe under the name i1 and go on to evaluate the second non-nested expression we found. The evaluation of the second expression may involve the result from the first expression, but that is not problem since we now have evaluated and stored the result. We then nest our way back to the last expression.\n",
        "\n",
        "What kind of functions do we need to evaluate simple statements?\n",
        "\n",
        "**Create a row mask** \n",
        "At its base, each atom has one or more codes or row indicators. Our general approach should first mark the rows that contain these codes (a row mask). If the atom contains a code, we will use one of our appraches for marking rows (*str.contains()*, *isin()*). But the atom does not only have to be a code. It could be anything that will create a row mask. For instance, if the atom contains the name of a variable and a condition, we create a row_mask based on this. For instance `age>25` can be used as an expressions and it will create a row-mask marking all rows where age is larger than 25 as True in this first step. \n",
        "\n",
        "Note that expressions in the end are evaluated at the level of the individual, not events. This is intentional and very much the whole point of the new funcions. Pandas already has good implementations of row based queries using the *query()* method. If we want to identify rows with a code for patients that are above an age at the same time they have a code X, we could just write:\n",
        "\n",
        "´df.query('age>25 and X in icd')´\n",
        "\n",
        "In contrast to a row-based query, we are implementing a person based query. The expression *X and Y* will search for persons who at any point in time have had code X and Y. This is differentfrom a row based query that will only find persons who have had X and Y at the same time (in the same event/row). \n",
        "\n",
        "It is important to note the person based focus since it affects the interpretation of compound statements like *'X and age>25'* In the expression language we are creating, this will come back as true for every person who have code X and an obervation with an age larger than 25, but it does not require that the person should have received X when she was more than 25 years old. If you want the latter, you already have a good option using *query()*, and expressions should only be used when the focus is individuals and not rows. (One might extend the expression langauge to include row based selection like this: `X[age>25]`)\n",
        "\n",
        "Although the final expression is evaluated at the person level, the starting point of the implementation is a row mask. Using this we can evaluate, for instance, whether a person has received a code (using *any()*). But before doing this, we must examine whether the row has a quantifier.\n",
        "\n",
        "**Modify the row selection based on quantifiers**\n",
        "In the previous step, all rows that satisfy a condition was marked as True (A condition is the existence of a code or something like age>25). Quantifiers may modify this result and produce a new row selection. This is easier than it sounds. For instance, having marked all rows with an IBD code, it is quite easy to group it by person id and selct only the first IBD event. The following quantifiers are easy to implement:\n",
        "* Ordinal (1st, 2nd, 3rd etc)\n",
        "* Interval (First 10, Last 5)\n",
        "* Frequency (Min 2 of X)\n",
        "And one might other quantifiers if needed (first 10 pct of X? Between 3rd and 8th of X)\n",
        "\n",
        "It is easy, because Pandas has methods that allows you to take a boolean series and then create a cumulative sum for each person (groupby('pid').cumsum()). Moreover, these operations are order-preserving (i.e. the row order does not change). If the data is sorted by date, the result you get back from a groupby will have the same order as the original dataframe.\n",
        "\n",
        "\n"
      ]
    },
    {
      "cell_type": "code",
      "metadata": {
        "id": "XCxUBnh0m2kz",
        "colab_type": "code",
        "colab": {}
      },
      "source": [
        ""
      ],
      "execution_count": 0,
      "outputs": []
    },
    {
      "cell_type": "code",
      "metadata": {
        "id": "gBu-uJS4TP-J",
        "colab_type": "code",
        "colab": {}
      },
      "source": [
        "inpatient['cd_rows']=cd_rows\n",
        "inpatient['uc_rows']=uc_rows\n"
      ],
      "execution_count": 0,
      "outputs": []
    },
    {
      "cell_type": "code",
      "metadata": {
        "id": "ZThcNvujP-o3",
        "colab_type": "code",
        "outputId": "caeb71f3-7444-4260-dd6a-d00085dd96fe",
        "colab": {
          "base_uri": "https://localhost:8080/",
          "height": 36
        }
      },
      "source": [
        "%%timeit\n",
        "cd_rows.groupby(level=0).cumsum()"
      ],
      "execution_count": 0,
      "outputs": [
        {
          "output_type": "stream",
          "text": [
            "10 loops, best of 3: 28.2 ms per loop\n"
          ],
          "name": "stdout"
        }
      ]
    },
    {
      "cell_type": "code",
      "metadata": {
        "id": "EH6zxdekP-ZB",
        "colab_type": "code",
        "outputId": "fa6c4976-1cb0-41a4-c43e-5b271124eb9e",
        "colab": {
          "base_uri": "https://localhost:8080/",
          "height": 36
        }
      },
      "source": [
        "%%timeit\n",
        "inpatient.groupby('pid').cd_rows.cumsum()"
      ],
      "execution_count": 0,
      "outputs": [
        {
          "output_type": "stream",
          "text": [
            "10 loops, best of 3: 27.8 ms per loop\n"
          ],
          "name": "stdout"
        }
      ]
    },
    {
      "cell_type": "code",
      "metadata": {
        "id": "CWb-YXkri8XF",
        "colab_type": "code",
        "colab": {}
      },
      "source": [
        "import numpy as np"
      ],
      "execution_count": 0,
      "outputs": []
    },
    {
      "cell_type": "code",
      "metadata": {
        "id": "4BMq31sah_xq",
        "colab_type": "code",
        "colab": {}
      },
      "source": [
        "cd_dates = np.where(cd_rows, inpatient.date, np.datetime64('NaT'))\n",
        "uc_dates = np.where(uc_rows, inpatient.date, np.datetime64('NaT'))"
      ],
      "execution_count": 0,
      "outputs": []
    },
    {
      "cell_type": "code",
      "metadata": {
        "id": "NwdPP979hIF8",
        "colab_type": "code",
        "outputId": "8c38aaf9-9516-4ce2-e4fe-d6578da13a17",
        "colab": {
          "base_uri": "https://localhost:8080/",
          "height": 54
        }
      },
      "source": [
        "cd_dates"
      ],
      "execution_count": 0,
      "outputs": [
        {
          "output_type": "execute_result",
          "data": {
            "text/plain": [
              "array(['NaT', 'NaT', 'NaT', ..., 'NaT', 'NaT', 'NaT'],\n",
              "      dtype='datetime64[ns]')"
            ]
          },
          "metadata": {
            "tags": []
          },
          "execution_count": 120
        }
      ]
    },
    {
      "cell_type": "code",
      "metadata": {
        "id": "1Zf8c2EajC7_",
        "colab_type": "code",
        "colab": {}
      },
      "source": [
        "cd_bool = np.where(cd_rows, 1, np.nan)"
      ],
      "execution_count": 0,
      "outputs": []
    },
    {
      "cell_type": "code",
      "metadata": {
        "id": "GpMyPA9vhHb5",
        "colab_type": "code",
        "colab": {}
      },
      "source": [
        "inpatient['cd_bool'] = cd_bool"
      ],
      "execution_count": 0,
      "outputs": []
    },
    {
      "cell_type": "code",
      "metadata": {
        "id": "wmRnyGW5k9GT",
        "colab_type": "code",
        "colab": {}
      },
      "source": [
        "change_pid = inpatient.pid != inpatient.pid.shift(1)"
      ],
      "execution_count": 0,
      "outputs": []
    },
    {
      "cell_type": "code",
      "metadata": {
        "id": "n0yb2U8ylFlm",
        "colab_type": "code",
        "colab": {}
      },
      "source": [
        "inpatient['change_pid'] = change_pid"
      ],
      "execution_count": 0,
      "outputs": []
    },
    {
      "cell_type": "code",
      "metadata": {
        "id": "aXEYdnHFlZcJ",
        "colab_type": "code",
        "outputId": "5e6c03a7-1aa4-4286-90b2-e3244c42290a",
        "colab": {
          "base_uri": "https://localhost:8080/",
          "height": 258
        }
      },
      "source": [
        "inpatient['change_pid']"
      ],
      "execution_count": 0,
      "outputs": [
        {
          "output_type": "execute_result",
          "data": {
            "text/plain": [
              "pid_index\n",
              "00013D2EFD8E45D1     True\n",
              "00016F745862898F     True\n",
              "00016F745862898F    False\n",
              "00016F745862898F    False\n",
              "00016F745862898F    False\n",
              "                    ...  \n",
              "FFF8B49458F9FFA7     True\n",
              "FFF8B49458F9FFA7    False\n",
              "FFFA950301FCA748     True\n",
              "FFFC880E13CA6278     True\n",
              "FFFE3ED9582AD46E     True\n",
              "Name: change_pid, Length: 66773, dtype: bool"
            ]
          },
          "metadata": {
            "tags": []
          },
          "execution_count": 145
        }
      ]
    },
    {
      "cell_type": "code",
      "metadata": {
        "id": "1ypM3gexldL7",
        "colab_type": "code",
        "colab": {}
      },
      "source": [
        "inpatient.loc[change_pid, 'cd_bool'] = 0"
      ],
      "execution_count": 0,
      "outputs": []
    },
    {
      "cell_type": "code",
      "metadata": {
        "id": "44eomoiVnOyF",
        "colab_type": "code",
        "outputId": "a7f02f90-3f96-42d8-9f5a-3da31e5696d9",
        "colab": {
          "base_uri": "https://localhost:8080/",
          "height": 258
        }
      },
      "source": [
        "inpatient['cdonoff']=inpatient['cd_bool'].fillna(method='ffill')\n",
        "inpatient['cdonoff']"
      ],
      "execution_count": 0,
      "outputs": [
        {
          "output_type": "execute_result",
          "data": {
            "text/plain": [
              "pid_index\n",
              "00013D2EFD8E45D1    0.0\n",
              "00016F745862898F    0.0\n",
              "00016F745862898F    0.0\n",
              "00016F745862898F    0.0\n",
              "00016F745862898F    0.0\n",
              "                   ... \n",
              "FFF8B49458F9FFA7    0.0\n",
              "FFF8B49458F9FFA7    0.0\n",
              "FFFA950301FCA748    0.0\n",
              "FFFC880E13CA6278    0.0\n",
              "FFFE3ED9582AD46E    0.0\n",
              "Name: cdonoff, Length: 66773, dtype: float64"
            ]
          },
          "metadata": {
            "tags": []
          },
          "execution_count": 151
        }
      ]
    },
    {
      "cell_type": "code",
      "metadata": {
        "id": "HVRZ0lzvny42",
        "colab_type": "code",
        "outputId": "020155d7-700e-477d-bb0c-4b8f46be5e38",
        "colab": {
          "base_uri": "https://localhost:8080/",
          "height": 425
        }
      },
      "source": [
        "inpatient[inpatient.pid.isin((cd_rows==1).index)].cdonoff.head(20)"
      ],
      "execution_count": 0,
      "outputs": [
        {
          "output_type": "execute_result",
          "data": {
            "text/plain": [
              "pid_index\n",
              "00013D2EFD8E45D1    0.0\n",
              "00016F745862898F    0.0\n",
              "00016F745862898F    0.0\n",
              "00016F745862898F    0.0\n",
              "00016F745862898F    0.0\n",
              "00052705243EA128    0.0\n",
              "0007F12A492FD25D    0.0\n",
              "0007F12A492FD25D    0.0\n",
              "0007F12A492FD25D    0.0\n",
              "0007F12A492FD25D    0.0\n",
              "000B97BA2314E971    0.0\n",
              "000C7486B11E7030    0.0\n",
              "00108066CA1FACCE    0.0\n",
              "0011714C14B52EEB    0.0\n",
              "0011CB1FE23E91AF    0.0\n",
              "0011CB1FE23E91AF    0.0\n",
              "00139C345A104F72    0.0\n",
              "00139C345A104F72    0.0\n",
              "0013E139F1F37264    0.0\n",
              "00157F1570C74E09    0.0\n",
              "Name: cdonoff, dtype: float64"
            ]
          },
          "metadata": {
            "tags": []
          },
          "execution_count": 154
        }
      ]
    },
    {
      "cell_type": "code",
      "metadata": {
        "id": "hVfQYkUdoX4f",
        "colab_type": "code",
        "colab": {}
      },
      "source": [
        ""
      ],
      "execution_count": 0,
      "outputs": []
    },
    {
      "cell_type": "code",
      "metadata": {
        "id": "8v4d6vHToMa1",
        "colab_type": "code",
        "colab": {}
      },
      "source": [
        ""
      ],
      "execution_count": 0,
      "outputs": []
    },
    {
      "cell_type": "code",
      "metadata": {
        "id": "CpyRyXGVoJ0f",
        "colab_type": "code",
        "colab": {}
      },
      "source": [
        ""
      ],
      "execution_count": 0,
      "outputs": []
    },
    {
      "cell_type": "code",
      "metadata": {
        "id": "tFXafxoUnyw0",
        "colab_type": "code",
        "colab": {}
      },
      "source": [
        ""
      ],
      "execution_count": 0,
      "outputs": []
    },
    {
      "cell_type": "code",
      "metadata": {
        "id": "zrdC9xV0nys_",
        "colab_type": "code",
        "colab": {}
      },
      "source": [
        ""
      ],
      "execution_count": 0,
      "outputs": []
    },
    {
      "cell_type": "code",
      "metadata": {
        "id": "wnqu8p_nngU5",
        "colab_type": "code",
        "colab": {}
      },
      "source": [
        ""
      ],
      "execution_count": 0,
      "outputs": []
    },
    {
      "cell_type": "code",
      "metadata": {
        "id": "xdv-iXs4lMkd",
        "colab_type": "code",
        "colab": {}
      },
      "source": [
        ""
      ],
      "execution_count": 0,
      "outputs": []
    },
    {
      "cell_type": "code",
      "metadata": {
        "id": "hQDHVxoZP-Qx",
        "colab_type": "code",
        "colab": {}
      },
      "source": [
        ""
      ],
      "execution_count": 0,
      "outputs": []
    },
    {
      "cell_type": "markdown",
      "metadata": {
        "id": "Kuen4oTwmSsN",
        "colab_type": "text"
      },
      "source": [
        ""
      ]
    }
  ]
}